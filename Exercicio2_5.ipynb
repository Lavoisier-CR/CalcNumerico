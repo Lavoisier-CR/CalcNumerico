{
  "nbformat": 4,
  "nbformat_minor": 0,
  "metadata": {
    "colab": {
      "provenance": [],
      "authorship_tag": "ABX9TyOSfSmz7YfuuG0ZgmcTndbX"
    },
    "kernelspec": {
      "name": "python3",
      "display_name": "Python 3"
    },
    "language_info": {
      "name": "python"
    }
  },
  "cells": [
    {
      "cell_type": "code",
      "execution_count": null,
      "metadata": {
        "id": "sRWUxcaYkpPq"
      },
      "outputs": [],
      "source": []
    },
    {
      "cell_type": "markdown",
      "source": [
        "<h1> Exercício 2.5 <h1>\n",
        "<h3> Decomposição LU </h3>\n",
        "<br>\n",
        "1. Implemente uma função que encontre o vetor solução de um sistema de equações lineares usando decomposição LU.\n",
        "Essa função terá de contemplar as três etapas do processo: a decomposição, cujo algoritmo é discutido no notebook das aulas da semana, e que terá como saída as matrizes **P**, **L** e **U** e as soluções\n",
        "dos sistemas intermediários usando as funções que já trabalhamos para sistemas triangulares.\n",
        "Para testar o funcionamento de seu sistema, verifique \"na mão\"e com o código, a solução dos exemplos de teste a seguir:\n",
        "\n",
        "(a)\n",
        "\\begin{equation}\n",
        "  \\begin{aligned}\n",
        "    2x_{1} + x_{2} = 1 \\\\\n",
        "    1x_{1} + 2x_{2} = 2\n",
        "  \\end{aligned}\n",
        "\\end{equation}\n",
        "\n",
        "cuja solução é x = [0, 1]^{T}.\n",
        "\n",
        "(b)\n",
        "\\begin{equation}\n",
        "  \\begin{aligned}\n",
        "    4x1 + x2 = 2 \\\\\n",
        "    1x1 + 5x2 = 10\n",
        "  \\end{aligned}\n",
        "\\end{equation}\n",
        "\n",
        "cuja solução é x = [0, 2]^{T}.\n",
        "\n",
        "2. Compare o tempo de cálculo da implementação de solução por eliminação Gaussiana e da decomposição LU, para a solução dos seguintes sistemas, e discuta os resultados:\n",
        "\n",
        "(a)\n",
        "\n",
        "\\begin{equation}\n",
        "  \\begin{aligned}\n",
        "    x_{1} + x_{2} + x_{3} = 1 \\\\\n",
        "    4x_{1} + 4x_{2} + 2x_{3} = 2 \\\\\n",
        "    2x_{1} + x_{2} − x_{3} = 0\n",
        "  \\end{aligned}\n",
        "\\end{equation}\n",
        "\n",
        "(b)\n",
        "\n",
        "\\begin{equation}\n",
        "  \\begin{aligned}\n",
        "    7x_{1} − 7x_{2} + x_{3} = 1 \\\\\n",
        "    −3x_{1} + 3x_{2 + 2x_{3} = 2 \\\\\n",
        "    7x_{1} + 7x_{2 − 72x_{3} = 7\n",
        "  \\end{aligned}\n",
        "\\end{equation}\n",
        "\n",
        "(c)\n",
        "\n",
        "\\begin{equation}\n",
        "  \\begin{aligned}\n",
        "    x_{1} + 2x_{2} + 3x_{3} + 4x_{4} = 20 \\\\\n",
        "    2x_{1} + 2x_{2} + 3x_{3} + 4x_{4} = 22 \\\\\n",
        "    3x_{1} + 3x_{2} + 3x_{3} + 4x_{4} = 22 \\\\\n",
        "    4x_{1} + 4x_{2} + 4x_{3} + 4x_{4} = 24 \\\\\n",
        "  \\end{aligned}\n",
        "\\end{equation}\n",
        "\n",
        "Dica: use o comando %%timeit no começo da célula e será retornado o tempo de execução do código daquela célula. Para mais informações, veja o <a href=\"https://ipython.readthedocs.io/en/stable/interactive/magics.html\">link</a>."
      ],
      "metadata": {
        "id": "MqvAFckmkqmo"
      }
    },
    {
      "cell_type": "code",
      "source": [],
      "metadata": {
        "id": "YaV8AfR-luXI"
      },
      "execution_count": null,
      "outputs": []
    }
  ]
}