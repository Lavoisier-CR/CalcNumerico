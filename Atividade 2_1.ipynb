{
  "metadata": {
    "kernelspec": {
      "name": "python",
      "display_name": "Python (Pyodide)",
      "language": "python"
    },
    "language_info": {
      "codemirror_mode": {
        "name": "python",
        "version": 3
      },
      "file_extension": ".py",
      "mimetype": "text/x-python",
      "name": "python",
      "nbconvert_exporter": "python",
      "pygments_lexer": "ipython3",
      "version": "3.8"
    }
  },
  "nbformat_minor": 4,
  "nbformat": 4,
  "cells": [
    {
      "cell_type": "markdown",
      "source": "<div class=\"alert alert-block alert-info\">\n<center>MÉTODOS NUMÉRICOS</center>\n<center>Atividade 7</center>\n</div>",
      "metadata": {}
    },
    {
      "cell_type": "markdown",
      "source": "<div class=\"alert alert-block alert-info\">\nProblema 1: Escreva um algoritmo que calcule a norma de um vetor traduzindo a Equação\n2-7 do texto em código. Confirme, usando vetores aleatórios com diferentes dimensionalidades e\norientações, que você obtém o mesmo resultado que np.linalg.norm().\n</div>",
      "metadata": {}
    },
    {
      "cell_type": "markdown",
      "source": "_Este exercício é\nprojetado para lhe dar mais experiência com indexação de matrizes NumPy e tradução\nde fórmulas em código; na prática, geralmente é mais fácil usar np.linalg.norm()._",
      "metadata": {}
    },
    {
      "cell_type": "code",
      "source": "import numpy as np\nimport math\n\ndef calcular_norma(vetor):\n    soma_quadrados = 0.0\n    for componente in vetor:\n        soma_quadrados += componente ** 2\n    return math.sqrt(soma_quadrados)",
      "metadata": {
        "trusted": true
      },
      "outputs": [],
      "execution_count": 1
    },
    {
      "cell_type": "code",
      "source": "calcular_norma([2,4,6,8])",
      "metadata": {
        "trusted": true
      },
      "outputs": [
        {
          "execution_count": 2,
          "output_type": "execute_result",
          "data": {
            "text/plain": "10.954451150103322"
          },
          "metadata": {}
        }
      ],
      "execution_count": 2
    },
    {
      "cell_type": "markdown",
      "source": "<div class=\"alert alert-block alert-info\">\nProblema 2: Escreva um loop for para transpor um vetor de linha em um vetor de coluna sem usar uma\nfunção ou método integrado, como np.transpose() ou v.T. \n</div>",
      "metadata": {}
    },
    {
      "cell_type": "markdown",
      "source": "_Este exercício ajudará\nvocê a criar e indexar vetores dotados de orientação._",
      "metadata": {}
    },
    {
      "cell_type": "code",
      "source": "import numpy as np\n\nv_linha = np.array([1, 2, 3, 4, 5])\n\nv_coluna = []\nfor elemento in v_linha:\n    v_coluna.append([elemento]) \n\nv_coluna = np.array(v_coluna)\n\nprint(v_linha)\nprint(\"\\nVetor coluna transposto:\")\nprint(v_coluna)",
      "metadata": {
        "trusted": true
      },
      "outputs": [
        {
          "name": "stdout",
          "output_type": "stream",
          "text": "[1 2 3 4 5]\n\nVetor coluna transposto:\n[[1]\n [2]\n [3]\n [4]\n [5]]\n"
        }
      ],
      "execution_count": 3
    },
    {
      "cell_type": "markdown",
      "source": "<div class=\"alert alert-block alert-info\">\nProblema 3: Mostre que é possível calcular a norma quadrada de um vetor como o produto escalar\ndesse vetor consigo mesmo. \n</div>",
      "metadata": {}
    },
    {
      "cell_type": "markdown",
      "source": "_Olhe novamente para a Equação 2-8 para se convencer desta equivalência. Então confirme usando Python._",
      "metadata": {}
    },
    {
      "cell_type": "code",
      "source": "import numpy as np\n\nv = np.array([3, -4, 5, 2])\n\nnorma_quadrada_1 = np.linalg.norm(v)**2\n\nnorma_quadrada_2 = np.dot(v, v)\n\n# Verificação\nprint(f\"Vetor: {v}\")\nprint(f\"Norma quadrada (via np.linalg.norm²): {norma_quadrada_1}\")\nprint(f\"Norma quadrada (via produto escalar): {norma_quadrada_2}\")\nprint(f\"Iguais? {np.allclose(norma_quadrada_1, norma_quadrada_2)}\")\n\ndef norma_quadrada(v):\n    return sum(x*x for x in v)\n\ndef produto_escalar(v1, v2):\n    return sum(x*y for x, y in zip(v1, v2))\n\nv = [3, -4, 5, 2]\nprint(f\"Norma quadrada: {norma_quadrada(v)}\")\nprint(f\"Produto escalar v·v: {produto_escalar(v, v)}\")",
      "metadata": {
        "trusted": true
      },
      "outputs": [],
      "execution_count": null
    },
    {
      "cell_type": "markdown",
      "source": "<div class=\"alert alert-block alert-info\">\nProblema 4: Mostre que é o produto escalar vetorial é comutativo.\n</div>",
      "metadata": {}
    },
    {
      "cell_type": "code",
      "source": "import numpy as np\n\nu = np.array([2, -1, 3])\nv = np.array([4, 0, -2])\n\nuv = np.dot(u, v)\nvu = np.dot(v, u)\n\nprint(f\"u · v = {uv}\")\nprint(f\"v · u = {vu}\")   ",
      "metadata": {
        "trusted": true
      },
      "outputs": [
        {
          "name": "stdout",
          "output_type": "stream",
          "text": "u · v = 2\nv · u = 2\n"
        }
      ],
      "execution_count": 4
    },
    {
      "cell_type": "markdown",
      "source": "_Comutativo significa que $a \\times b$ = $b \\times a$, o que, para o produto escalar vetorial, significa que $\\mathbf{a}^T\\mathbf{b} = \\mathbf{b}^T\\mathbf{a}$. Após\ndemonstrar isso no código, use a equação Equação 2-9 do texto para entender por que o produto escalar é comutativo._",
      "metadata": {}
    },
    {
      "cell_type": "markdown",
      "source": "<div class=\"alert alert-block alert-info\">\nProblema 5: Implemente a decomposição vetorial ortogonal entre dois vetores, sem usar funções prontas: calcule a componente paralela de um vetor com relação ao outro (equação 2-13 do texto) e a partir dela, calcule a componente perpendicular dos vetores.\n</div>",
      "metadata": {}
    },
    {
      "cell_type": "code",
      "source": "import numpy as np\n\ndef projecao_ortogonal(t, r):\n   \n    rT_t = np.sum(r * t) \n    rT_r = np.sum(r * r)\n    \n    if rT_r == 0:\n        return np.zeros_like(r)\n    \n    t_parallel = (rT_t / rT_r) * r\n    \n    return t_parallel\n\n# Exemplo:\nt = np.array([3, 4])\nr = np.array([1, 0])\n\nt_parallel = projecao_ortogonal(t, r)\nt_perpendicular = t - t_parallel\n\nprint(\"Vetor t:\", t)\nprint(\"Vetor r:\", r)\nprint(\"Componente paralela (projeção):\", t_parallel)\nprint(\"Componente perpendicular:\", t_perpendicular)",
      "metadata": {
        "trusted": true
      },
      "outputs": [
        {
          "name": "stdout",
          "output_type": "stream",
          "text": "Vetor t: [3 4]\nVetor r: [1 0]\nComponente paralela (projeção): [3. 0.]\nComponente perpendicular: [0. 4.]\n"
        }
      ],
      "execution_count": 5
    },
    {
      "cell_type": "markdown",
      "source": "<div class=\"alert alert-block alert-info\">\nProblema 6: Escreva uma função Python que receba dois vetores como entrada e forneça dois números como\nsaída: o coeficiente de correlação de Pearson e o valor de similaridade do cosseno. Escreva um código\nque siga as fórmulas apresentadas neste texto; não chame simplesmente np.corrcoef e\nspatial.distance.cosine. Verifique se os dois valores de saída são idênticos quando as\nvariáveis ​​já estão centradas na média e diferentes quando as variáveis ​​não estão\ncentradas na média.\n</div>",
      "metadata": {}
    },
    {
      "cell_type": "code",
      "source": "import numpy as np\n\ndef pearson_cosine(x, y):\n    \n    if len(x) != len(y):\n        raise ValueError(\"Vetores devem ter o mesmo comprimento\")\n    \n    n = len(x)\n    mean_x = np.mean(x)\n    mean_y = np.mean(y)\n        \n    x_centered = x - mean_x\n    y_centered = y - mean_y\n    \n    pearson_numerator = np.sum(x_centered * y_centered)\n    pearson_denominator = np.sqrt(np.sum(x_centered**2) * np.sum(y_centered**2))\n    \n    pearson = pearson_numerator / pearson_denominator if pearson_denominator != 0 else 0\n    \n    cosine_numerator = np.sum(x * y)\n    cosine_denominator = np.sqrt(np.sum(x**2) * np.sum(y**2))\n    \n    cosine = cosine_numerator / cosine_denominator if cosine_denominator != 0 else 0\n    \n    return (pearson, cosine)\n\ndef testar_coeficientes():\n    x = np.array([1, 2, 3, 4, 5])\n    y = np.array([2, 3, 4, 5, 6])\n    \n    print(\"Vetores não centrados:\")\n    print(\"x:\", x)\n    print(\"y:\", y)\n    \n    p, c = pearson_cosine(x, y)\n    print(f\"Pearson: {p:.4f}\")\n    print(f\"Cosseno: {c:.4f}\")\n    print(f\"São iguais? {np.isclose(p, c)}\\n\")\n    \n    # Vetores centrados\n    x_centered = x - np.mean(x)\n    y_centered = y - np.mean(y)\n    \n    print(\"Vetores centrados:\")\n    print(\"x_centered:\", x_centered)\n    print(\"y_centered:\", y_centered)\n    \n    p_cent, c_cent = pearson_cosine(x_centered, y_centered)\n    print(f\"Pearson: {p_cent:.4f}\")\n    print(f\"Cosseno: {c_cent:.4f}\")\n    print(f\"São iguais? {np.isclose(p_cent, c_cent)}\")\n\ntestar_coeficientes()",
      "metadata": {
        "trusted": true
      },
      "outputs": [
        {
          "name": "stdout",
          "output_type": "stream",
          "text": "Vetores não centrados:\nx: [1 2 3 4 5]\ny: [2 3 4 5 6]\nPearson: 1.0000\nCosseno: 0.9949\nSão iguais? False\n\nVetores centrados:\nx_centered: [-2. -1.  0.  1.  2.]\ny_centered: [-2. -1.  0.  1.  2.]\nPearson: 1.0000\nCosseno: 1.0000\nSão iguais? True\n"
        }
      ],
      "execution_count": 6
    },
    {
      "cell_type": "code",
      "source": "",
      "metadata": {
        "trusted": true
      },
      "outputs": [],
      "execution_count": null
    }
  ]
}