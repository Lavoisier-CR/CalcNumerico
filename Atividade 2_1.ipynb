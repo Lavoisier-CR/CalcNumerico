{
  "metadata": {
    "kernelspec": {
      "name": "python",
      "display_name": "Python (Pyodide)",
      "language": "python"
    },
    "language_info": {
      "codemirror_mode": {
        "name": "python",
        "version": 3
      },
      "file_extension": ".py",
      "mimetype": "text/x-python",
      "name": "python",
      "nbconvert_exporter": "python",
      "pygments_lexer": "ipython3",
      "version": "3.8"
    }
  },
  "nbformat_minor": 4,
  "nbformat": 4,
  "cells": [
    {
      "cell_type": "markdown",
      "source": "<div class=\"alert alert-block alert-info\">\n<center>MÉTODOS NUMÉRICOS</center>\n<center>Atividade 7</center>\n</div>",
      "metadata": {}
    },
    {
      "cell_type": "markdown",
      "source": "<div class=\"alert alert-block alert-info\">\nProblema 1: Escreva um algoritmo que calcule a norma de um vetor traduzindo a Equação\n2-7 do texto em código. Confirme, usando vetores aleatórios com diferentes dimensionalidades e\norientações, que você obtém o mesmo resultado que np.linalg.norm().\n</div>",
      "metadata": {}
    },
    {
      "cell_type": "markdown",
      "source": "_Este exercício é\nprojetado para lhe dar mais experiência com indexação de matrizes NumPy e tradução\nde fórmulas em código; na prática, geralmente é mais fácil usar np.linalg.norm()._",
      "metadata": {}
    },
    {
      "cell_type": "code",
      "source": "import numpy as np\nv = np.array([1,2,3,7,8,9])\nv_dim = len(v)\nv_mag = np.linalg.norm(v)",
      "metadata": {
        "trusted": true
      },
      "outputs": [],
      "execution_count": 5
    },
    {
      "cell_type": "code",
      "source": "",
      "metadata": {
        "trusted": true
      },
      "outputs": [],
      "execution_count": null
    },
    {
      "cell_type": "markdown",
      "source": "<div class=\"alert alert-block alert-info\">\nProblema 2: Escreva um loop for para transpor um vetor de linha em um vetor de coluna sem usar uma\nfunção ou método integrado, como np.transpose() ou v.T. \n</div>",
      "metadata": {}
    },
    {
      "cell_type": "markdown",
      "source": "_Este exercício ajudará\nvocê a criar e indexar vetores dotados de orientação._",
      "metadata": {}
    },
    {
      "cell_type": "code",
      "source": "import numpy as np\ndef TransporVetor(vLinha):\n    v=np.array(vLinha)\n    vDim=len(vLinha)\n    for i in range(vDim):\n        vColuna=vLinha([i])\n    return vColuna\n\nvetor = [1,2,3,4]\nvetorColuna = TransporVetor(vetor)\nprint(vetorColuna)",
      "metadata": {
        "trusted": true
      },
      "outputs": [
        {
          "ename": "<class 'TypeError'>",
          "evalue": "'list' object is not callable",
          "traceback": [
            "\u001b[0;31m---------------------------------------------------------------------------\u001b[0m",
            "\u001b[0;31mTypeError\u001b[0m                                 Traceback (most recent call last)",
            "Cell \u001b[0;32mIn[8], line 10\u001b[0m\n\u001b[1;32m      7\u001b[0m     \u001b[38;5;28;01mreturn\u001b[39;00m vColuna\n\u001b[1;32m      9\u001b[0m vetor \u001b[38;5;241m=\u001b[39m [\u001b[38;5;241m1\u001b[39m,\u001b[38;5;241m2\u001b[39m,\u001b[38;5;241m3\u001b[39m,\u001b[38;5;241m4\u001b[39m]\n\u001b[0;32m---> 10\u001b[0m vetorColuna \u001b[38;5;241m=\u001b[39m \u001b[43mTransporVetor\u001b[49m\u001b[43m(\u001b[49m\u001b[43mvetor\u001b[49m\u001b[43m)\u001b[49m\n\u001b[1;32m     11\u001b[0m \u001b[38;5;28mprint\u001b[39m(vetorColuna)\n",
            "Cell \u001b[0;32mIn[8], line 6\u001b[0m, in \u001b[0;36mTransporVetor\u001b[0;34m(vLinha)\u001b[0m\n\u001b[1;32m      4\u001b[0m vDim\u001b[38;5;241m=\u001b[39m\u001b[38;5;28mlen\u001b[39m(vLinha)\n\u001b[1;32m      5\u001b[0m \u001b[38;5;28;01mfor\u001b[39;00m i \u001b[38;5;129;01min\u001b[39;00m \u001b[38;5;28mrange\u001b[39m(vDim):\n\u001b[0;32m----> 6\u001b[0m     vColuna\u001b[38;5;241m=\u001b[39m\u001b[43mvLinha\u001b[49m\u001b[43m(\u001b[49m\u001b[43m[\u001b[49m\u001b[43mi\u001b[49m\u001b[43m]\u001b[49m\u001b[43m)\u001b[49m\n\u001b[1;32m      7\u001b[0m \u001b[38;5;28;01mreturn\u001b[39;00m vColuna\n",
            "\u001b[0;31mTypeError\u001b[0m: 'list' object is not callable"
          ],
          "output_type": "error"
        }
      ],
      "execution_count": 8
    },
    {
      "cell_type": "markdown",
      "source": "<div class=\"alert alert-block alert-info\">\nProblema 3: Mostre que é possível calcular a norma quadrada de um vetor como o produto escalar\ndesse vetor consigo mesmo. \n</div>",
      "metadata": {}
    },
    {
      "cell_type": "markdown",
      "source": "_Olhe novamente para a Equação 2-8 para se convencer desta equivalência. Então confirme usando Python._",
      "metadata": {}
    },
    {
      "cell_type": "code",
      "source": "",
      "metadata": {},
      "outputs": [],
      "execution_count": null
    },
    {
      "cell_type": "markdown",
      "source": "<div class=\"alert alert-block alert-info\">\nProblema 4: Mostre que é o produto escalar vetorial é comutativo.\n</div>",
      "metadata": {}
    },
    {
      "cell_type": "code",
      "source": "def escalar(a,b):\n    \n\n\n    ",
      "metadata": {},
      "outputs": [],
      "execution_count": null
    },
    {
      "cell_type": "markdown",
      "source": "_Comutativo significa que $a \\times b$ = $b \\times a$, o que, para o produto escalar vetorial, significa que $\\mathbf{a}^T\\mathbf{b} = \\mathbf{b}^T\\mathbf{a}$. Após\ndemonstrar isso no código, use a equação Equação 2-9 do texto para entender por que o produto escalar é comutativo._",
      "metadata": {}
    },
    {
      "cell_type": "markdown",
      "source": "<div class=\"alert alert-block alert-info\">\nProblema 5: Implemente a decomposição vetorial ortogonal entre dois vetores, sem usar funções prontas: calcule a componente paralela de um vetor com relação ao outro (equação 2-13 do texto) e a partir dela, calcule a componente perpendicular dos vetores.\n</div>",
      "metadata": {}
    },
    {
      "cell_type": "code",
      "source": "",
      "metadata": {},
      "outputs": [],
      "execution_count": null
    },
    {
      "cell_type": "markdown",
      "source": "<div class=\"alert alert-block alert-info\">\nProblema 6: Escreva uma função Python que receba dois vetores como entrada e forneça dois números como\nsaída: o coeficiente de correlação de Pearson e o valor de similaridade do cosseno. Escreva um código\nque siga as fórmulas apresentadas neste texto; não chame simplesmente np.corrcoef e\nspatial.distance.cosine. Verifique se os dois valores de saída são idênticos quando as\nvariáveis ​​já estão centradas na média e diferentes quando as variáveis ​​não estão\ncentradas na média.\n</div>",
      "metadata": {}
    },
    {
      "cell_type": "code",
      "source": "",
      "metadata": {},
      "outputs": [],
      "execution_count": null
    }
  ]
}