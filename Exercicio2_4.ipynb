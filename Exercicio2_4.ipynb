{
  "nbformat": 4,
  "nbformat_minor": 0,
  "metadata": {
    "colab": {
      "provenance": [],
      "authorship_tag": "ABX9TyPlupJKyFwrFYyLMS6PdiBV"
    },
    "kernelspec": {
      "name": "python3",
      "display_name": "Python 3"
    },
    "language_info": {
      "name": "python"
    }
  },
  "cells": [
    {
      "cell_type": "markdown",
      "source": [
        "<h1>Exercício 2.4</h1>\n",
        "\n",
        "Implemente uma função que use eliminação gaussiana para encontrar o vetor solução de um sistema de equações lineares.\n",
        "\n",
        "Essa função terá de contemplar as duas etapas do processo: a <em>eliminação</em>, cujo algoritmo é discutido no notebook das aulas da semana, e que terá como saída a matriz escalonada e a <em>substituição retroativa</em>, que encontrará a solução do sistema triangular superior obtido do escalonamento, e cuja implementação já foi feita por vocês em exercício anterior.\n",
        "\n",
        "Para testar e verificar se a função de vocês está corretamente implementada, compare os resultados com a função solve da biblioteca Scipy, cujo uso também foi discutido no notebook, para os seguintes exemplos de sistemas:\n",
        "\n",
        "\\\\\n",
        "(a)\n",
        "\n",
        "\\begin{equation}\n",
        "\\begin{aligned}\n",
        "   x_{1} + x_{2} + x_{3} = 1 \\\\\n",
        "4x_{1} + 4x_{2} + 2x_{3} = 2 \\\\\n",
        "   2x_{1} + x_{2} − x_{3} = 0\n",
        "\\end{aligned}\n",
        "\\end{equation}\n",
        "\n",
        "(b)\n",
        "\\begin{equation}\n",
        "\\begin{aligned}\n",
        "7x_{1} − 7x_{2} + x_{3} = 1 \\\\\n",
        "−3x_{1} + 3x_{2} + 2x_{3} = 2 \\\\\n",
        "7x_{1} + 7x_{2} − 72x_{3} = 7\n",
        "\\end{aligned}\n",
        "\\end{equation}\n",
        "\n",
        "(c)\n",
        "\\begin{equation}\n",
        "\\begin{aligned}\n",
        "x_{1} + 2x_{2} + 3x_{3} + 4x_{4} = 20 \\\\\n",
        "2x_{1} + 2x_{2} + 3x_{3} + 4x_{4} = 22 \\\\\n",
        "3x_{1} + 3x_{2} + 3x_{3} + 4x_{4} = 22 \\\\\n",
        "4x_{1} + 4x_{2} + 4x_{3} + 4x_{4} = 24\n",
        "\\end{aligned}\n",
        "\\end{equation}\n"
      ],
      "metadata": {
        "id": "agFvSiGM0_FH"
      }
    },
    {
      "cell_type": "code",
      "source": [
        "import numpy as np\n",
        "from scipy.linalg import solve\n",
        "\n",
        "def eliminacao_gaussiana(A, b):\n",
        "    n = len(b)\n",
        "    Ab = np.hstack([A, b.reshape(-1, 1)])\n",
        "\n",
        "    for k in range(n-1):\n",
        "        max_row = np.argmax(np.abs(Ab[k:, k])) + k\n",
        "        if max_row != k:\n",
        "            Ab[[k, max_row]] = Ab[[max_row, k]]\n",
        "\n",
        "        for i in range(k+1, n):\n",
        "            if Ab[k, k] == 0:\n",
        "                raise ValueError(\"Matriz singular - sistema não tem solução única\")\n",
        "            fator = Ab[i, k] / Ab[k, k]\n",
        "            Ab[i, k:] -= fator * Ab[k, k:]\n",
        "\n",
        "    return Ab[:, :-1], Ab[:, -1]\n",
        "\n",
        "def substituicao_retroativa(U, c):\n",
        "\n",
        "    n = len(c)\n",
        "    x = np.zeros(n)\n",
        "\n",
        "    for i in range(n-1, -1, -1):\n",
        "        if U[i, i] == 0:\n",
        "            raise ValueError(\"Matriz singular - sistema não tem solução única\")\n",
        "        x[i] = (c[i] - np.dot(U[i, i+1:], x[i+1:])) / U[i, i]\n",
        "\n",
        "    return x\n",
        "\n",
        "def resolver_sistema(A, b):\n",
        "    try:\n",
        "        U, c = eliminacao_gaussiana(A.copy(), b.copy())\n",
        "        x = substituicao_retroativa(U, c)\n",
        "        return x\n",
        "    except ValueError as e:\n",
        "        print(e)\n",
        "        return None\n",
        "\n",
        "print(\"Sistema (a):\")\n",
        "A_a = np.array([[1, 1, 1],\n",
        "                [4, 4, 2],\n",
        "                [2, 1, -1]], dtype=float)\n",
        "b_a = np.array([14, 22, 0], dtype=float)\n",
        "x_a = resolver_sistema(A_a, b_a)\n",
        "print(\"Nossa solução:\", x_a)\n",
        "print(\"Solução scipy:\", solve(A_a, b_a))\n",
        "\n",
        "print(\"\\nSistema (b):\")\n",
        "A_b = np.array([[7, -7, 1],\n",
        "                [-3, 3, 2],\n",
        "                [7, 7, -72]], dtype=float)\n",
        "b_b = np.array([1, 2, 7], dtype=float)\n",
        "x_b = resolver_sistema(A_b, b_b)\n",
        "print(\"Nossa solução:\", x_b)\n",
        "print(\"Solução scipy:\", solve(A_b, b_b))\n",
        "\n",
        "print(\"\\nSistema (c):\")\n",
        "A_c = np.array([[1, 2, 3, 4],\n",
        "                [2, 2, 3, 4],\n",
        "                [3, 3, 3, 4],\n",
        "                [4, 4, 4, 4]], dtype=float)\n",
        "b_c = np.array([20, 22, 22, 24], dtype=float)\n",
        "x_c = resolver_sistema(A_c, b_c)\n",
        "print(\"Nossa solução:\", x_c)\n",
        "print(\"Solução scipy:\", solve(A_c, b_c))"
      ],
      "metadata": {
        "colab": {
          "base_uri": "https://localhost:8080/"
        },
        "id": "WkCQwuC108Fc",
        "outputId": "70272c21-11e5-4fb9-d585-d636578b875c"
      },
      "execution_count": null,
      "outputs": [
        {
          "output_type": "stream",
          "name": "stdout",
          "text": [
            "Sistema (a):\n",
            "Nossa solução: [ 20. -23.  17.]\n",
            "Solução scipy: [ 20. -23.  17.]\n",
            "\n",
            "Sistema (b):\n",
            "Nossa solução: [5.64285714 5.64285714 1.        ]\n",
            "Solução scipy: [5.64285714 5.64285714 1.        ]\n",
            "\n",
            "Sistema (c):\n",
            "Nossa solução: [ 2. -2.  2.  4.]\n",
            "Solução scipy: [ 2. -2.  2.  4.]\n"
          ]
        }
      ]
    }
  ]
}